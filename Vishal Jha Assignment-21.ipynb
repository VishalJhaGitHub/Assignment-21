{
 "cells": [
  {
   "cell_type": "code",
   "execution_count": null,
   "id": "23b7e2e1-b442-416e-8a3d-ba235837fff5",
   "metadata": {},
   "outputs": [],
   "source": [
    "#1. Write a python program to extract the video URL of the first five videos.\n",
    "\n",
    "#Ans\n",
    "\n"
   ]
  },
  {
   "cell_type": "code",
   "execution_count": 3,
   "id": "dc543b8b-e6e6-41e9-907d-6b5dadd19019",
   "metadata": {},
   "outputs": [
    {
     "name": "stdout",
     "output_type": "stream",
     "text": [
      "Requirement already satisfied: BeautifulSoup4 in /opt/conda/lib/python3.10/site-packages (4.11.1)\n",
      "Requirement already satisfied: soupsieve>1.2 in /opt/conda/lib/python3.10/site-packages (from BeautifulSoup4) (2.3.2.post1)\n",
      "Note: you may need to restart the kernel to use updated packages.\n"
     ]
    }
   ],
   "source": [
    "pip install BeautifulSoup4"
   ]
  },
  {
   "cell_type": "code",
   "execution_count": 1,
   "id": "3027e7bd-48f9-43e7-a494-0460539c6dba",
   "metadata": {},
   "outputs": [
    {
     "name": "stdout",
     "output_type": "stream",
     "text": [
      "[]\n"
     ]
    }
   ],
   "source": [
    "import requests\n",
    "from bs4 import BeautifulSoup\n",
    "\n",
    "# URL of the YouTube channel\n",
    "url = 'https://www.youtube.com/@PW-Foundation/videos'\n",
    "\n",
    "# Send a GET request to the URL\n",
    "response = requests.get(url)\n",
    "\n",
    "# Parse the HTML content using BeautifulSoup\n",
    "soup = BeautifulSoup(response.content, 'html.parser')\n",
    "\n",
    "# Find all the video links on the page\n",
    "video_links = soup.find_all('a', {'class': 'yt-simple-endpoint style-scope ytd-grid-video-renderer'})\n",
    "\n",
    "# Extract the video URLs of the first five videos\n",
    "video_urls = []\n",
    "for link in video_links[:5]:\n",
    "    video_url = 'https://www.youtube.com' + link.get('href')\n",
    "    video_urls.append(video_url)\n",
    "\n",
    "# Print the video URLs\n",
    "print(video_urls)"
   ]
  },
  {
   "cell_type": "code",
   "execution_count": 3,
   "id": "3f2d0c60-c033-446d-868c-c8359048d615",
   "metadata": {},
   "outputs": [
    {
     "name": "stdout",
     "output_type": "stream",
     "text": [
      "Requirement already satisfied: requests in /opt/conda/lib/python3.10/site-packages (2.28.1)\n",
      "Requirement already satisfied: urllib3<1.27,>=1.21.1 in /opt/conda/lib/python3.10/site-packages (from requests) (1.26.13)\n",
      "Requirement already satisfied: charset-normalizer<3,>=2 in /opt/conda/lib/python3.10/site-packages (from requests) (2.1.1)\n",
      "Requirement already satisfied: certifi>=2017.4.17 in /opt/conda/lib/python3.10/site-packages (from requests) (2022.12.7)\n",
      "Requirement already satisfied: idna<4,>=2.5 in /opt/conda/lib/python3.10/site-packages (from requests) (3.4)\n",
      "Note: you may need to restart the kernel to use updated packages.\n"
     ]
    }
   ],
   "source": [
    "pip install requests"
   ]
  },
  {
   "cell_type": "code",
   "execution_count": 4,
   "id": "04f23c2c-d059-4ac1-80b0-abb931cfb4ea",
   "metadata": {},
   "outputs": [
    {
     "name": "stdout",
     "output_type": "stream",
     "text": [
      "Requirement already satisfied: beautifulsoup4 in /opt/conda/lib/python3.10/site-packages (4.11.1)\n",
      "Requirement already satisfied: soupsieve>1.2 in /opt/conda/lib/python3.10/site-packages (from beautifulsoup4) (2.3.2.post1)\n",
      "Note: you may need to restart the kernel to use updated packages.\n"
     ]
    }
   ],
   "source": [
    "pip install beautifulsoup4"
   ]
  },
  {
   "cell_type": "code",
   "execution_count": 1,
   "id": "3c24c6d1-40f3-463f-9137-dd9feafc5a3b",
   "metadata": {},
   "outputs": [
    {
     "name": "stdout",
     "output_type": "stream",
     "text": [
      "[]\n"
     ]
    }
   ],
   "source": [
    "#2. Write a python program to extract the URL of the video thumbnails of the first five videos.\n",
    "\n",
    "#Ans\n",
    "\n",
    "import requests\n",
    "from bs4 import BeautifulSoup\n",
    "\n",
    "# URL of the YouTube channel\n",
    "url = 'https://www.youtube.com/@PW-Foundation/videos'\n",
    "\n",
    "# Send a GET request to the URL\n",
    "response = requests.get(url)\n",
    "\n",
    "# Parse the HTML content using BeautifulSoup\n",
    "soup = BeautifulSoup(response.content, 'html.parser')\n",
    "\n",
    "# Find all the video links on the page\n",
    "video_links = soup.find_all('a', {'class': 'yt-simple-endpoint style-scope ytd-grid-video-renderer'})\n",
    "\n",
    "# Extract the thumbnail URLs of the first five videos\n",
    "thumbnail_urls = []\n",
    "for link in video_links[:5]:\n",
    "    thumbnail_url = link.find('img')['src']\n",
    "    thumbnail_urls.append(thumbnail_url)\n",
    "\n",
    "# Print the thumbnail URLs\n",
    "print(thumbnail_urls)"
   ]
  },
  {
   "cell_type": "code",
   "execution_count": 2,
   "id": "f68a7938-63ea-4ebc-9776-9a312ce52648",
   "metadata": {},
   "outputs": [
    {
     "name": "stdout",
     "output_type": "stream",
     "text": [
      "[]\n"
     ]
    }
   ],
   "source": [
    "#3. Write a python program to extract the title of the first five videos.\n",
    "\n",
    "#Ans\n",
    "\n",
    "import requests\n",
    "from bs4 import BeautifulSoup\n",
    "\n",
    "# URL of the YouTube channel\n",
    "url = 'https://www.youtube.com/@PW-Foundation/videos'\n",
    "\n",
    "# Send a GET request to the URL\n",
    "response = requests.get(url)\n",
    "\n",
    "# Parse the HTML content using BeautifulSoup\n",
    "soup = BeautifulSoup(response.content, 'html.parser')\n",
    "\n",
    "# Find all the video links on the page\n",
    "video_links = soup.find_all('a', {'class': 'yt-simple-endpoint style-scope ytd-grid-video-renderer'})\n",
    "\n",
    "# Extract the titles of the first five videos\n",
    "video_titles = []\n",
    "for link in video_links[:5]:\n",
    "    video_title = link.find('yt-formatted-string').text\n",
    "    video_titles.append(video_title)\n",
    "\n",
    "# Print the video titles\n",
    "print(video_titles)"
   ]
  },
  {
   "cell_type": "code",
   "execution_count": 3,
   "id": "f1bee143-eec0-45b2-a9a5-dba12ac2c125",
   "metadata": {},
   "outputs": [],
   "source": [
    "#4. Write a python program to extract the number of views of the first five videos.\n",
    "\n",
    "#Ans\n",
    "\n",
    "import requests\n",
    "from bs4 import BeautifulSoup\n",
    "\n",
    "url = 'https://www.youtube.com/@PW-Foundation/videos'\n",
    "\n",
    "response = requests.get(url)\n",
    "soup = BeautifulSoup(response.text, 'html.parser')\n",
    "\n",
    "videos = soup.select('h3 > a')\n",
    "for i, video in enumerate(videos[:5]):\n",
    "    video_url = f\"https://www.youtube.com{video['href']}\"\n",
    "    video_response = requests.get(video_url)\n",
    "    video_soup = BeautifulSoup(video_response.text, 'html.parser')\n",
    "    views = video_soup.select_one('.view-count').text\n",
    "    print(f\"Video {i+1}: {views}\")"
   ]
  },
  {
   "cell_type": "code",
   "execution_count": 6,
   "id": "bc4bfe85-592b-45d1-9f15-b12f9accc79c",
   "metadata": {},
   "outputs": [],
   "source": [
    "#5. Write a python program to extract the time of posting of video for the first five videos.\n",
    "\n",
    "#Ans\n",
    "\n",
    "import requests\n",
    "from bs4 import BeautifulSoup\n",
    "\n",
    "url = 'https://www.youtube.com/@PW-Foundation/videos'\n",
    "\n",
    "response = requests.get(url)\n",
    "soup = BeautifulSoup(response.text, 'html.parser')\n",
    "\n",
    "videos = soup.select('h3 > a')\n",
    "for i, video in enumerate(videos[:5]):\n",
    "    video_url = f\"https://www.youtube.com{video['href']}\"\n",
    "    video_response = requests.get(video_url)\n",
    "    video_soup = BeautifulSoup(video_response.text, 'html.parser')\n",
    "    post_time = video_soup.select_one('.date-time').text\n",
    "    print(f\"Video {i+1}: {post_time}\")"
   ]
  },
  {
   "cell_type": "code",
   "execution_count": null,
   "id": "0d2c9aca-e3de-4461-97c0-05a87cbe5438",
   "metadata": {},
   "outputs": [],
   "source": []
  },
  {
   "cell_type": "code",
   "execution_count": null,
   "id": "6261f551-54b9-4fde-9c7c-6eaa172274d1",
   "metadata": {},
   "outputs": [],
   "source": []
  }
 ],
 "metadata": {
  "kernelspec": {
   "display_name": "Python 3 (ipykernel)",
   "language": "python",
   "name": "python3"
  },
  "language_info": {
   "codemirror_mode": {
    "name": "ipython",
    "version": 3
   },
   "file_extension": ".py",
   "mimetype": "text/x-python",
   "name": "python",
   "nbconvert_exporter": "python",
   "pygments_lexer": "ipython3",
   "version": "3.10.8"
  }
 },
 "nbformat": 4,
 "nbformat_minor": 5
}
